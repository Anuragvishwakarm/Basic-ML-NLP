{
 "cells": [
  {
   "cell_type": "markdown",
   "metadata": {},
   "source": [
    "## Word Embedding Techniques using Embedding Layer in Keras\n",
    "Word embedding is a technique used in natural language processing (NLP) to convert words into vectors.\n",
    "The Embedding layer in Keras is used to perform word embedding. It is a type of neural\n",
    "network layer that maps words to vectors. The Embedding layer is a key component of many NLP\n",
    "models.\n",
    "### Embedding Layer in Keras\n",
    "The Embedding layer in Keras is a type of neural network layer that maps words to vectors.\n",
    "It is a key component of many NLP models.\n",
    "### Word Embedding Techniques using Embedding Layer in Keras\n"
   ]
  },
  {
   "cell_type": "code",
   "execution_count": null,
   "metadata": {},
   "outputs": [],
   "source": [
    "pip install tensorflow\n"
   ]
  },
  {
   "cell_type": "code",
   "execution_count": 8,
   "metadata": {},
   "outputs": [
    {
     "name": "stdout",
     "output_type": "stream",
     "text": [
      "2.17.0\n"
     ]
    }
   ],
   "source": [
    "import tensorflow as tf\n",
    "print(tf.__version__)"
   ]
  },
  {
   "cell_type": "code",
   "execution_count": 39,
   "metadata": {},
   "outputs": [],
   "source": [
    "##tensorflow >2.0\n",
    "from tensorflow.keras.preprocessing.text import one_hot"
   ]
  },
  {
   "cell_type": "code",
   "execution_count": 40,
   "metadata": {},
   "outputs": [],
   "source": [
    "### sentences\n",
    "sent=[  'the glass of milk',\n",
    "     'the glass of juice',\n",
    "     'the cup of tea',\n",
    "    'I am a good boy',\n",
    "     'I am a good developer',\n",
    "     'understand the meaning of words',\n",
    "     'your videos are good']"
   ]
  },
  {
   "cell_type": "code",
   "execution_count": 30,
   "metadata": {},
   "outputs": [
    {
     "data": {
      "text/plain": [
       "['the glass of milk',\n",
       " 'the glass of juice',\n",
       " 'the cup of tea',\n",
       " 'I am a good boy',\n",
       " 'I am a good developer',\n",
       " 'understand the meaning of words',\n",
       " 'your videos are good']"
      ]
     },
     "execution_count": 30,
     "metadata": {},
     "output_type": "execute_result"
    }
   ],
   "source": [
    "sent"
   ]
  },
  {
   "cell_type": "code",
   "execution_count": 89,
   "metadata": {},
   "outputs": [],
   "source": [
    "### Vocabulary size\n",
    "voc_size=500"
   ]
  },
  {
   "cell_type": "markdown",
   "metadata": {},
   "source": [
    "### One Hot Representation"
   ]
  },
  {
   "cell_type": "code",
   "execution_count": 90,
   "metadata": {},
   "outputs": [
    {
     "name": "stdout",
     "output_type": "stream",
     "text": [
      "[[461, 298, 229, 437], [461, 298, 229, 316], [461, 339, 229, 172], [29, 370, 18, 71, 52], [29, 370, 18, 71, 248], [295, 461, 342, 229, 419], [350, 213, 149, 71]]\n"
     ]
    }
   ],
   "source": [
    "onehot_repr=[one_hot(words,voc_size)for words in sent] \n",
    "print(onehot_repr)"
   ]
  },
  {
   "cell_type": "markdown",
   "metadata": {},
   "source": [
    "\n",
    "### Word Embedding Represntation"
   ]
  },
  {
   "cell_type": "code",
   "execution_count": 74,
   "metadata": {},
   "outputs": [],
   "source": [
    "from tensorflow.keras.layers import Embedding\n",
    "from tensorflow.keras.preprocessing.sequence import pad_sequences\n",
    "from tensorflow.keras.models import Sequential"
   ]
  },
  {
   "cell_type": "code",
   "execution_count": 68,
   "metadata": {},
   "outputs": [],
   "source": [
    "import numpy as np"
   ]
  },
  {
   "cell_type": "code",
   "execution_count": 91,
   "metadata": {},
   "outputs": [
    {
     "name": "stdout",
     "output_type": "stream",
     "text": [
      "[[  0   0   0   0 461 298 229 437]\n",
      " [  0   0   0   0 461 298 229 316]\n",
      " [  0   0   0   0 461 339 229 172]\n",
      " [  0   0   0  29 370  18  71  52]\n",
      " [  0   0   0  29 370  18  71 248]\n",
      " [  0   0   0 295 461 342 229 419]\n",
      " [  0   0   0   0 350 213 149  71]]\n"
     ]
    }
   ],
   "source": [
    "## pre padding\n",
    "sent_length=8\n",
    "embedded_docs = pad_sequences(onehot_repr,padding='pre',maxlen=sent_length)\n",
    "print(embedded_docs)"
   ]
  },
  {
   "cell_type": "code",
   "execution_count": 92,
   "metadata": {},
   "outputs": [],
   "source": [
    "## 10 feature dimesnions\n",
    "dim=10"
   ]
  },
  {
   "cell_type": "code",
   "execution_count": 93,
   "metadata": {},
   "outputs": [],
   "source": [
    "model = Sequential()\n",
    "model.add(Embedding(input_dim=voc_size, output_dim=10, input_shape=(sent_length,)))\n",
    "model.compile('adam','mse')\n"
   ]
  },
  {
   "cell_type": "code",
   "execution_count": 94,
   "metadata": {},
   "outputs": [
    {
     "data": {
      "text/html": [
       "<pre style=\"white-space:pre;overflow-x:auto;line-height:normal;font-family:Menlo,'DejaVu Sans Mono',consolas,'Courier New',monospace\"><span style=\"font-weight: bold\">Model: \"sequential_13\"</span>\n",
       "</pre>\n"
      ],
      "text/plain": [
       "\u001b[1mModel: \"sequential_13\"\u001b[0m\n"
      ]
     },
     "metadata": {},
     "output_type": "display_data"
    },
    {
     "data": {
      "text/html": [
       "<pre style=\"white-space:pre;overflow-x:auto;line-height:normal;font-family:Menlo,'DejaVu Sans Mono',consolas,'Courier New',monospace\">┏━━━━━━━━━━━━━━━━━━━━━━━━━━━━━━━━━┳━━━━━━━━━━━━━━━━━━━━━━━━┳━━━━━━━━━━━━━━━┓\n",
       "┃<span style=\"font-weight: bold\"> Layer (type)                    </span>┃<span style=\"font-weight: bold\"> Output Shape           </span>┃<span style=\"font-weight: bold\">       Param # </span>┃\n",
       "┡━━━━━━━━━━━━━━━━━━━━━━━━━━━━━━━━━╇━━━━━━━━━━━━━━━━━━━━━━━━╇━━━━━━━━━━━━━━━┩\n",
       "│ embedding_13 (<span style=\"color: #0087ff; text-decoration-color: #0087ff\">Embedding</span>)        │ (<span style=\"color: #00d7ff; text-decoration-color: #00d7ff\">None</span>, <span style=\"color: #00af00; text-decoration-color: #00af00\">8</span>, <span style=\"color: #00af00; text-decoration-color: #00af00\">10</span>)          │         <span style=\"color: #00af00; text-decoration-color: #00af00\">5,000</span> │\n",
       "└─────────────────────────────────┴────────────────────────┴───────────────┘\n",
       "</pre>\n"
      ],
      "text/plain": [
       "┏━━━━━━━━━━━━━━━━━━━━━━━━━━━━━━━━━┳━━━━━━━━━━━━━━━━━━━━━━━━┳━━━━━━━━━━━━━━━┓\n",
       "┃\u001b[1m \u001b[0m\u001b[1mLayer (type)                   \u001b[0m\u001b[1m \u001b[0m┃\u001b[1m \u001b[0m\u001b[1mOutput Shape          \u001b[0m\u001b[1m \u001b[0m┃\u001b[1m \u001b[0m\u001b[1m      Param #\u001b[0m\u001b[1m \u001b[0m┃\n",
       "┡━━━━━━━━━━━━━━━━━━━━━━━━━━━━━━━━━╇━━━━━━━━━━━━━━━━━━━━━━━━╇━━━━━━━━━━━━━━━┩\n",
       "│ embedding_13 (\u001b[38;5;33mEmbedding\u001b[0m)        │ (\u001b[38;5;45mNone\u001b[0m, \u001b[38;5;34m8\u001b[0m, \u001b[38;5;34m10\u001b[0m)          │         \u001b[38;5;34m5,000\u001b[0m │\n",
       "└─────────────────────────────────┴────────────────────────┴───────────────┘\n"
      ]
     },
     "metadata": {},
     "output_type": "display_data"
    },
    {
     "data": {
      "text/html": [
       "<pre style=\"white-space:pre;overflow-x:auto;line-height:normal;font-family:Menlo,'DejaVu Sans Mono',consolas,'Courier New',monospace\"><span style=\"font-weight: bold\"> Total params: </span><span style=\"color: #00af00; text-decoration-color: #00af00\">5,000</span> (19.53 KB)\n",
       "</pre>\n"
      ],
      "text/plain": [
       "\u001b[1m Total params: \u001b[0m\u001b[38;5;34m5,000\u001b[0m (19.53 KB)\n"
      ]
     },
     "metadata": {},
     "output_type": "display_data"
    },
    {
     "data": {
      "text/html": [
       "<pre style=\"white-space:pre;overflow-x:auto;line-height:normal;font-family:Menlo,'DejaVu Sans Mono',consolas,'Courier New',monospace\"><span style=\"font-weight: bold\"> Trainable params: </span><span style=\"color: #00af00; text-decoration-color: #00af00\">5,000</span> (19.53 KB)\n",
       "</pre>\n"
      ],
      "text/plain": [
       "\u001b[1m Trainable params: \u001b[0m\u001b[38;5;34m5,000\u001b[0m (19.53 KB)\n"
      ]
     },
     "metadata": {},
     "output_type": "display_data"
    },
    {
     "data": {
      "text/html": [
       "<pre style=\"white-space:pre;overflow-x:auto;line-height:normal;font-family:Menlo,'DejaVu Sans Mono',consolas,'Courier New',monospace\"><span style=\"font-weight: bold\"> Non-trainable params: </span><span style=\"color: #00af00; text-decoration-color: #00af00\">0</span> (0.00 B)\n",
       "</pre>\n"
      ],
      "text/plain": [
       "\u001b[1m Non-trainable params: \u001b[0m\u001b[38;5;34m0\u001b[0m (0.00 B)\n"
      ]
     },
     "metadata": {},
     "output_type": "display_data"
    }
   ],
   "source": [
    "model.summary()"
   ]
  },
  {
   "cell_type": "code",
   "execution_count": 95,
   "metadata": {},
   "outputs": [
    {
     "data": {
      "text/plain": [
       "array([  0,   0,   0,   0, 461, 298, 229, 437])"
      ]
     },
     "execution_count": 95,
     "metadata": {},
     "output_type": "execute_result"
    }
   ],
   "source": [
    "##'the glass of milk',\n",
    "embedded_docs[0]"
   ]
  },
  {
   "cell_type": "code",
   "execution_count": 97,
   "metadata": {},
   "outputs": [
    {
     "name": "stdout",
     "output_type": "stream",
     "text": [
      "\u001b[1m1/1\u001b[0m \u001b[32m━━━━━━━━━━━━━━━━━━━━\u001b[0m\u001b[37m\u001b[0m \u001b[1m0s\u001b[0m 211ms/step\n"
     ]
    },
    {
     "data": {
      "text/plain": [
       "array([[[-0.04437944, -0.02334898, -0.04329724,  0.03605784,\n",
       "          0.01522413, -0.00254602, -0.03372777,  0.0233614 ,\n",
       "         -0.00821145,  0.01713983],\n",
       "        [-0.04437944, -0.02334898, -0.04329724,  0.03605784,\n",
       "          0.01522413, -0.00254602, -0.03372777,  0.0233614 ,\n",
       "         -0.00821145,  0.01713983],\n",
       "        [-0.04437944, -0.02334898, -0.04329724,  0.03605784,\n",
       "          0.01522413, -0.00254602, -0.03372777,  0.0233614 ,\n",
       "         -0.00821145,  0.01713983],\n",
       "        [-0.04437944, -0.02334898, -0.04329724,  0.03605784,\n",
       "          0.01522413, -0.00254602, -0.03372777,  0.0233614 ,\n",
       "         -0.00821145,  0.01713983],\n",
       "        [ 0.04855329, -0.03391048, -0.02123376, -0.04045446,\n",
       "         -0.01232713, -0.03725051,  0.0329395 ,  0.03066463,\n",
       "          0.02702928, -0.03165245],\n",
       "        [ 0.04415147,  0.01122659, -0.04268719, -0.04588213,\n",
       "         -0.01014138, -0.02125028, -0.003663  ,  0.02132566,\n",
       "         -0.01133956, -0.02142308],\n",
       "        [-0.00315143,  0.01729933, -0.01114786,  0.02818603,\n",
       "          0.00536498,  0.04359287, -0.00878546, -0.02368557,\n",
       "         -0.04975719,  0.00534642],\n",
       "        [ 0.02264264, -0.02650948, -0.00801135,  0.01903019,\n",
       "         -0.01837047,  0.04223609, -0.04374609, -0.01798815,\n",
       "         -0.04177101, -0.01576154]]], dtype=float32)"
      ]
     },
     "execution_count": 97,
     "metadata": {},
     "output_type": "execute_result"
    }
   ],
   "source": [
    "# Reshape to (1, sent_length) to simulate a batch of size 1\n",
    "single_doc = np.array(embedded_docs[0]).reshape(1, -1)\n",
    "\n",
    "# Now pass it to the model for prediction\n",
    "model.predict(single_doc)"
   ]
  },
  {
   "cell_type": "code",
   "execution_count": 98,
   "metadata": {},
   "outputs": [
    {
     "name": "stdout",
     "output_type": "stream",
     "text": [
      "(7, 8)\n"
     ]
    }
   ],
   "source": [
    "print(embedded_docs.shape)\n"
   ]
  },
  {
   "cell_type": "code",
   "execution_count": 99,
   "metadata": {},
   "outputs": [
    {
     "name": "stdout",
     "output_type": "stream",
     "text": [
      "\u001b[1m1/1\u001b[0m \u001b[32m━━━━━━━━━━━━━━━━━━━━\u001b[0m\u001b[37m\u001b[0m \u001b[1m0s\u001b[0m 470ms/step\n",
      "[[[-4.43794392e-02 -2.33489759e-02 -4.32972424e-02  3.60578410e-02\n",
      "    1.52241327e-02 -2.54602358e-03 -3.37277651e-02  2.33613960e-02\n",
      "   -8.21144506e-03  1.71398260e-02]\n",
      "  [-4.43794392e-02 -2.33489759e-02 -4.32972424e-02  3.60578410e-02\n",
      "    1.52241327e-02 -2.54602358e-03 -3.37277651e-02  2.33613960e-02\n",
      "   -8.21144506e-03  1.71398260e-02]\n",
      "  [-4.43794392e-02 -2.33489759e-02 -4.32972424e-02  3.60578410e-02\n",
      "    1.52241327e-02 -2.54602358e-03 -3.37277651e-02  2.33613960e-02\n",
      "   -8.21144506e-03  1.71398260e-02]\n",
      "  [-4.43794392e-02 -2.33489759e-02 -4.32972424e-02  3.60578410e-02\n",
      "    1.52241327e-02 -2.54602358e-03 -3.37277651e-02  2.33613960e-02\n",
      "   -8.21144506e-03  1.71398260e-02]\n",
      "  [ 4.85532917e-02 -3.39104757e-02 -2.12337617e-02 -4.04544584e-02\n",
      "   -1.23271346e-02 -3.72505076e-02  3.29394974e-02  3.06646340e-02\n",
      "    2.70292796e-02 -3.16524506e-02]\n",
      "  [ 4.41514738e-02  1.12265944e-02 -4.26871888e-02 -4.58821319e-02\n",
      "   -1.01413839e-02 -2.12502833e-02 -3.66300344e-03  2.13256590e-02\n",
      "   -1.13395564e-02 -2.14230772e-02]\n",
      "  [-3.15142795e-03  1.72993280e-02 -1.11478567e-02  2.81860270e-02\n",
      "    5.36497682e-03  4.35928740e-02 -8.78546387e-03 -2.36855745e-02\n",
      "   -4.97571938e-02  5.34641743e-03]\n",
      "  [ 2.26426385e-02 -2.65094768e-02 -8.01135227e-03  1.90301873e-02\n",
      "   -1.83704719e-02  4.22360934e-02 -4.37460914e-02 -1.79881454e-02\n",
      "   -4.17710058e-02 -1.57615431e-02]]\n",
      "\n",
      " [[-4.43794392e-02 -2.33489759e-02 -4.32972424e-02  3.60578410e-02\n",
      "    1.52241327e-02 -2.54602358e-03 -3.37277651e-02  2.33613960e-02\n",
      "   -8.21144506e-03  1.71398260e-02]\n",
      "  [-4.43794392e-02 -2.33489759e-02 -4.32972424e-02  3.60578410e-02\n",
      "    1.52241327e-02 -2.54602358e-03 -3.37277651e-02  2.33613960e-02\n",
      "   -8.21144506e-03  1.71398260e-02]\n",
      "  [-4.43794392e-02 -2.33489759e-02 -4.32972424e-02  3.60578410e-02\n",
      "    1.52241327e-02 -2.54602358e-03 -3.37277651e-02  2.33613960e-02\n",
      "   -8.21144506e-03  1.71398260e-02]\n",
      "  [-4.43794392e-02 -2.33489759e-02 -4.32972424e-02  3.60578410e-02\n",
      "    1.52241327e-02 -2.54602358e-03 -3.37277651e-02  2.33613960e-02\n",
      "   -8.21144506e-03  1.71398260e-02]\n",
      "  [ 4.85532917e-02 -3.39104757e-02 -2.12337617e-02 -4.04544584e-02\n",
      "   -1.23271346e-02 -3.72505076e-02  3.29394974e-02  3.06646340e-02\n",
      "    2.70292796e-02 -3.16524506e-02]\n",
      "  [ 4.41514738e-02  1.12265944e-02 -4.26871888e-02 -4.58821319e-02\n",
      "   -1.01413839e-02 -2.12502833e-02 -3.66300344e-03  2.13256590e-02\n",
      "   -1.13395564e-02 -2.14230772e-02]\n",
      "  [-3.15142795e-03  1.72993280e-02 -1.11478567e-02  2.81860270e-02\n",
      "    5.36497682e-03  4.35928740e-02 -8.78546387e-03 -2.36855745e-02\n",
      "   -4.97571938e-02  5.34641743e-03]\n",
      "  [ 3.93188857e-02 -1.32876746e-02  2.02930905e-02  9.58564132e-03\n",
      "    1.02155432e-02  4.92204763e-02 -1.55527107e-02 -3.85857597e-02\n",
      "    4.18627970e-02 -3.90772335e-02]]\n",
      "\n",
      " [[-4.43794392e-02 -2.33489759e-02 -4.32972424e-02  3.60578410e-02\n",
      "    1.52241327e-02 -2.54602358e-03 -3.37277651e-02  2.33613960e-02\n",
      "   -8.21144506e-03  1.71398260e-02]\n",
      "  [-4.43794392e-02 -2.33489759e-02 -4.32972424e-02  3.60578410e-02\n",
      "    1.52241327e-02 -2.54602358e-03 -3.37277651e-02  2.33613960e-02\n",
      "   -8.21144506e-03  1.71398260e-02]\n",
      "  [-4.43794392e-02 -2.33489759e-02 -4.32972424e-02  3.60578410e-02\n",
      "    1.52241327e-02 -2.54602358e-03 -3.37277651e-02  2.33613960e-02\n",
      "   -8.21144506e-03  1.71398260e-02]\n",
      "  [-4.43794392e-02 -2.33489759e-02 -4.32972424e-02  3.60578410e-02\n",
      "    1.52241327e-02 -2.54602358e-03 -3.37277651e-02  2.33613960e-02\n",
      "   -8.21144506e-03  1.71398260e-02]\n",
      "  [ 4.85532917e-02 -3.39104757e-02 -2.12337617e-02 -4.04544584e-02\n",
      "   -1.23271346e-02 -3.72505076e-02  3.29394974e-02  3.06646340e-02\n",
      "    2.70292796e-02 -3.16524506e-02]\n",
      "  [ 4.43436541e-02 -2.91216020e-02  3.56448777e-02 -4.17920835e-02\n",
      "   -2.73322109e-02 -2.70926245e-02  1.88401826e-02  3.60529497e-03\n",
      "   -4.95367907e-02  1.40098445e-02]\n",
      "  [-3.15142795e-03  1.72993280e-02 -1.11478567e-02  2.81860270e-02\n",
      "    5.36497682e-03  4.35928740e-02 -8.78546387e-03 -2.36855745e-02\n",
      "   -4.97571938e-02  5.34641743e-03]\n",
      "  [-2.43209135e-02  2.88326778e-02  7.22638518e-03 -3.86021510e-02\n",
      "    2.76915468e-02  5.08587435e-03 -3.33502889e-02 -2.64814142e-02\n",
      "   -4.42820564e-02 -6.61091879e-03]]\n",
      "\n",
      " [[-4.43794392e-02 -2.33489759e-02 -4.32972424e-02  3.60578410e-02\n",
      "    1.52241327e-02 -2.54602358e-03 -3.37277651e-02  2.33613960e-02\n",
      "   -8.21144506e-03  1.71398260e-02]\n",
      "  [-4.43794392e-02 -2.33489759e-02 -4.32972424e-02  3.60578410e-02\n",
      "    1.52241327e-02 -2.54602358e-03 -3.37277651e-02  2.33613960e-02\n",
      "   -8.21144506e-03  1.71398260e-02]\n",
      "  [-4.43794392e-02 -2.33489759e-02 -4.32972424e-02  3.60578410e-02\n",
      "    1.52241327e-02 -2.54602358e-03 -3.37277651e-02  2.33613960e-02\n",
      "   -8.21144506e-03  1.71398260e-02]\n",
      "  [-1.93571206e-02 -3.53731513e-02 -2.42786892e-02  3.71918567e-02\n",
      "   -4.84390855e-02  2.42702477e-02 -2.58322600e-02 -4.13725525e-03\n",
      "    4.73290123e-02 -1.24837160e-02]\n",
      "  [ 5.08812815e-03  4.42827977e-02  3.04283835e-02  3.38529237e-02\n",
      "   -4.55503240e-02 -1.52456649e-02 -4.20523174e-02  8.48624855e-03\n",
      "    1.55113675e-02 -2.49850750e-03]\n",
      "  [-2.50517726e-02  2.40180753e-02  2.26612575e-02  5.43835014e-03\n",
      "    2.03542374e-02 -2.09379196e-03 -1.81794167e-05 -7.64548779e-04\n",
      "   -8.60377401e-03 -1.28144994e-02]\n",
      "  [ 3.60683836e-02 -3.90604883e-03  1.22555122e-02  2.45114826e-02\n",
      "    1.30495168e-02  4.76068258e-03 -1.41122937e-02 -2.25787237e-03\n",
      "   -4.54696789e-02 -1.89140085e-02]\n",
      "  [-1.12978704e-02 -1.62144415e-02  4.02140878e-02  2.32151411e-02\n",
      "    2.49230303e-02  1.00686438e-02 -3.71559374e-02 -4.32934538e-02\n",
      "   -4.57214229e-02  1.58596039e-03]]\n",
      "\n",
      " [[-4.43794392e-02 -2.33489759e-02 -4.32972424e-02  3.60578410e-02\n",
      "    1.52241327e-02 -2.54602358e-03 -3.37277651e-02  2.33613960e-02\n",
      "   -8.21144506e-03  1.71398260e-02]\n",
      "  [-4.43794392e-02 -2.33489759e-02 -4.32972424e-02  3.60578410e-02\n",
      "    1.52241327e-02 -2.54602358e-03 -3.37277651e-02  2.33613960e-02\n",
      "   -8.21144506e-03  1.71398260e-02]\n",
      "  [-4.43794392e-02 -2.33489759e-02 -4.32972424e-02  3.60578410e-02\n",
      "    1.52241327e-02 -2.54602358e-03 -3.37277651e-02  2.33613960e-02\n",
      "   -8.21144506e-03  1.71398260e-02]\n",
      "  [-1.93571206e-02 -3.53731513e-02 -2.42786892e-02  3.71918567e-02\n",
      "   -4.84390855e-02  2.42702477e-02 -2.58322600e-02 -4.13725525e-03\n",
      "    4.73290123e-02 -1.24837160e-02]\n",
      "  [ 5.08812815e-03  4.42827977e-02  3.04283835e-02  3.38529237e-02\n",
      "   -4.55503240e-02 -1.52456649e-02 -4.20523174e-02  8.48624855e-03\n",
      "    1.55113675e-02 -2.49850750e-03]\n",
      "  [-2.50517726e-02  2.40180753e-02  2.26612575e-02  5.43835014e-03\n",
      "    2.03542374e-02 -2.09379196e-03 -1.81794167e-05 -7.64548779e-04\n",
      "   -8.60377401e-03 -1.28144994e-02]\n",
      "  [ 3.60683836e-02 -3.90604883e-03  1.22555122e-02  2.45114826e-02\n",
      "    1.30495168e-02  4.76068258e-03 -1.41122937e-02 -2.25787237e-03\n",
      "   -4.54696789e-02 -1.89140085e-02]\n",
      "  [-3.09066530e-02 -1.89953335e-02 -2.62397286e-02  2.31020935e-02\n",
      "    1.52738802e-02  8.00383091e-03  4.39033657e-03 -2.46467125e-02\n",
      "   -8.55962187e-03  1.48120783e-02]]\n",
      "\n",
      " [[-4.43794392e-02 -2.33489759e-02 -4.32972424e-02  3.60578410e-02\n",
      "    1.52241327e-02 -2.54602358e-03 -3.37277651e-02  2.33613960e-02\n",
      "   -8.21144506e-03  1.71398260e-02]\n",
      "  [-4.43794392e-02 -2.33489759e-02 -4.32972424e-02  3.60578410e-02\n",
      "    1.52241327e-02 -2.54602358e-03 -3.37277651e-02  2.33613960e-02\n",
      "   -8.21144506e-03  1.71398260e-02]\n",
      "  [-4.43794392e-02 -2.33489759e-02 -4.32972424e-02  3.60578410e-02\n",
      "    1.52241327e-02 -2.54602358e-03 -3.37277651e-02  2.33613960e-02\n",
      "   -8.21144506e-03  1.71398260e-02]\n",
      "  [ 3.77695821e-02 -3.93281952e-02  1.58164538e-02  6.95933029e-03\n",
      "   -4.39698584e-02  2.58337297e-02 -1.37833729e-02 -3.65442038e-03\n",
      "   -3.15361172e-02 -3.75307202e-02]\n",
      "  [ 4.85532917e-02 -3.39104757e-02 -2.12337617e-02 -4.04544584e-02\n",
      "   -1.23271346e-02 -3.72505076e-02  3.29394974e-02  3.06646340e-02\n",
      "    2.70292796e-02 -3.16524506e-02]\n",
      "  [ 3.75343673e-02 -4.02374640e-02  3.83625664e-02 -8.25702026e-03\n",
      "    2.64296271e-02  7.08153099e-03 -4.08485755e-02  3.43104489e-02\n",
      "   -3.85480151e-02 -4.15153392e-02]\n",
      "  [-3.15142795e-03  1.72993280e-02 -1.11478567e-02  2.81860270e-02\n",
      "    5.36497682e-03  4.35928740e-02 -8.78546387e-03 -2.36855745e-02\n",
      "   -4.97571938e-02  5.34641743e-03]\n",
      "  [-4.30979021e-02  3.40757035e-02  3.80614139e-02 -1.48696788e-02\n",
      "    2.93017663e-02 -3.94792669e-02 -5.80925867e-03  2.27784775e-02\n",
      "   -2.93504074e-03  2.87482031e-02]]\n",
      "\n",
      " [[-4.43794392e-02 -2.33489759e-02 -4.32972424e-02  3.60578410e-02\n",
      "    1.52241327e-02 -2.54602358e-03 -3.37277651e-02  2.33613960e-02\n",
      "   -8.21144506e-03  1.71398260e-02]\n",
      "  [-4.43794392e-02 -2.33489759e-02 -4.32972424e-02  3.60578410e-02\n",
      "    1.52241327e-02 -2.54602358e-03 -3.37277651e-02  2.33613960e-02\n",
      "   -8.21144506e-03  1.71398260e-02]\n",
      "  [-4.43794392e-02 -2.33489759e-02 -4.32972424e-02  3.60578410e-02\n",
      "    1.52241327e-02 -2.54602358e-03 -3.37277651e-02  2.33613960e-02\n",
      "   -8.21144506e-03  1.71398260e-02]\n",
      "  [-4.43794392e-02 -2.33489759e-02 -4.32972424e-02  3.60578410e-02\n",
      "    1.52241327e-02 -2.54602358e-03 -3.37277651e-02  2.33613960e-02\n",
      "   -8.21144506e-03  1.71398260e-02]\n",
      "  [ 3.96718122e-02  3.81627344e-02 -4.49876562e-02  3.73749249e-02\n",
      "    1.87851898e-02  5.41009009e-04 -4.72855829e-02  1.86024979e-03\n",
      "   -2.32674964e-02  2.98089273e-02]\n",
      "  [-3.62636447e-02 -1.69122592e-02 -4.45136912e-02  8.49133730e-03\n",
      "   -1.49592012e-03 -3.50991637e-03 -4.07476425e-02  3.93498577e-02\n",
      "   -2.61142608e-02  1.59437098e-02]\n",
      "  [-2.92575844e-02  7.39949942e-03 -2.26036310e-02 -4.58467714e-02\n",
      "    2.06659772e-02  1.75863840e-02  2.35663541e-02 -1.92965269e-02\n",
      "    4.62450273e-02 -1.40246265e-02]\n",
      "  [ 3.60683836e-02 -3.90604883e-03  1.22555122e-02  2.45114826e-02\n",
      "    1.30495168e-02  4.76068258e-03 -1.41122937e-02 -2.25787237e-03\n",
      "   -4.54696789e-02 -1.89140085e-02]]]\n"
     ]
    }
   ],
   "source": [
    "# print(model.predict(embedded_docs))\n",
    "print(model.predict(embedded_docs))"
   ]
  },
  {
   "cell_type": "code",
   "execution_count": 100,
   "metadata": {},
   "outputs": [],
   "source": [
    "### Assignment\n",
    "\n",
    "sent=[\"The world is a better place\",\n",
    "      \"Marvel series is my favourite movie\",\n",
    "      \"I like DC movies\",\n",
    "      \"the cat is eating the food\",\n",
    "      \"Tom and Jerry is my favourite movie\",\n",
    "      \"Python is my favourite programming language\"\n",
    "      ]"
   ]
  },
  {
   "cell_type": "code",
   "execution_count": null,
   "metadata": {},
   "outputs": [],
   "source": []
  }
 ],
 "metadata": {
  "kernelspec": {
   "display_name": "Python 3",
   "language": "python",
   "name": "python3"
  },
  "language_info": {
   "codemirror_mode": {
    "name": "ipython",
    "version": 3
   },
   "file_extension": ".py",
   "mimetype": "text/x-python",
   "name": "python",
   "nbconvert_exporter": "python",
   "pygments_lexer": "ipython3",
   "version": "3.12.2"
  }
 },
 "nbformat": 4,
 "nbformat_minor": 2
}
